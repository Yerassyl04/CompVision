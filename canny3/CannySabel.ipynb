{
 "cells": [
  {
   "cell_type": "code",
   "execution_count": null,
   "id": "477a6bc8",
   "metadata": {},
   "outputs": [],
   "source": [
    "import numpy as np\n",
    "import cv2 as cv\n",
    "from matplotlib import pyplot as plt\n",
    "from tkinter import Tk\n",
    "from tkinter.filedialog import askopenfilename\n",
    "\n",
    "# Open a file dialog to choose an image\n",
    "Tk().withdraw()  # Hide the main tkinter window\n",
    "file_path = askopenfilename(title=\"Select an image\", filetypes=[(\"Image files\", \"*.jpg *.jpeg *.png *.bmp\")])\n",
    "assert file_path, \"No file was selected.\"\n",
    "\n",
    "# Read the image in grayscale\n",
    "img = cv.imread(file_path, cv.IMREAD_GRAYSCALE)\n",
    "assert img is not None, \"File could not be read, check if the file is a valid image.\"\n",
    "\n",
    "# Apply the Canny edge detection algorithm\n",
    "edges = cv.Canny(img, 100, 200)\n",
    "\n",
    "# Display the original image and edge-detected image\n",
    "plt.subplot(121), plt.imshow(img, cmap='gray')\n",
    "plt.title('Original Image'), plt.xticks([]), plt.yticks([])\n",
    "plt.subplot(122), plt.imshow(edges, cmap='gray')\n",
    "plt.title('Edge Image'), plt.xticks([]), plt.yticks([])\n",
    "\n",
    "plt.show()\n"
   ]
  },
  {
   "cell_type": "code",
   "execution_count": null,
   "id": "970135a7",
   "metadata": {},
   "outputs": [],
   "source": []
  }
 ],
 "metadata": {
  "kernelspec": {
   "display_name": "Python 3 (ipykernel)",
   "language": "python",
   "name": "python3"
  },
  "language_info": {
   "codemirror_mode": {
    "name": "ipython",
    "version": 3
   },
   "file_extension": ".py",
   "mimetype": "text/x-python",
   "name": "python",
   "nbconvert_exporter": "python",
   "pygments_lexer": "ipython3",
   "version": "3.11.4"
  }
 },
 "nbformat": 4,
 "nbformat_minor": 5
}
